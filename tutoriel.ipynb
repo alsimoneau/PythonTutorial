{
 "cells": [
  {
   "cell_type": "markdown",
   "id": "d2a13cdf-555e-4741-be40-c4bb6831eb05",
   "metadata": {},
   "source": [
    "<h3><b>Introduction à Python</b></h3>\n",
    "\n",
    "Ce démo est concu pour vous permettre d'apprendre à gérer la paramétrisation de vos codes pythons via 3 méthodes:</br>\n",
    "  1 - La lecture de fichiers de données</br>\n",
    "  2 - La saisie de paramètres.</br>\n",
    "  3 - La lecture de fichiers de paramètres.\n",
    "    \n",
    "Pour exécuter un bloc de code, simplement le sétectionner et appuyer sur <kbd>⇧ SHIFT</kbd>+<kbd>↵ ENTER</kbd> ou sur le bouton ▶ dans le menu.</br>\n",
    "Le résultat de la commande apparaît en dessous."
   ]
  },
  {
   "cell_type": "code",
   "execution_count": null,
   "id": "6a52ed25-d168-446b-8ac4-6276bb067e2d",
   "metadata": {},
   "outputs": [],
   "source": [
    "2+2"
   ]
  },
  {
   "cell_type": "markdown",
   "id": "c705a6e9-8f3e-41c5-90a4-38f34b7e22fc",
   "metadata": {},
   "source": [
    "<h4><b>Lecture de fichiers de données</b></h4>\n",
    "Pour passer des données à un programme, il est impensable de demander à l'utilisateur d'entrer l'ensemble des valeurs manuellement. Il est donc nécéssaire de lire les valeurs dans un fichier.\n",
    "\n",
    "La méthode de lecture dépend du format du fichier. Il est donc nécéssaire de connaître le format utilisé.\n",
    "\n",
    "Regardons le contenu du fichier <code>abcdaire.csv</code> :"
   ]
  },
  {
   "cell_type": "code",
   "execution_count": null,
   "id": "a41c2a73-cbd6-4b59-a682-05ff2cae9bd5",
   "metadata": {},
   "outputs": [],
   "source": [
    "print(\"-\"*14)\n",
    "with open(\"abcdaire.csv\") as f:\n",
    "    print(f.read())\n",
    "print(\"-\"*14)"
   ]
  },
  {
   "cell_type": "markdown",
   "id": "0e0c5120-b280-4011-aedd-d7336a8dd21b",
   "metadata": {},
   "source": [
    "Le format CSV (comma separated values) est un format simple qui enregistre les données dans une forme de \"tableur\" similaire à Excel, où chaque colone est séparé par une virgule.\n",
    "\n",
    "Pour manipuler ce type de fichier, nous allons ici utiliser la librairie <code>Pandas</code>. D'autre méthodes existent.\n",
    "\n",
    "Pour utiliser une librairie, il faut l'installer puis l'importer.\n",
    "\n",
    "Pour l'installer, ouvrez un Terminal via le Launcher et exécutez la commande suivante:\n",
    "<code>pip install pandas</code>\n",
    "\n",
    "Vous êtes ensuite en mesure d'importer la librairie."
   ]
  },
  {
   "cell_type": "code",
   "execution_count": null,
   "id": "66debbba-813d-47a0-b334-9470c25bb9fb",
   "metadata": {},
   "outputs": [],
   "source": [
    "import pandas as pd\n",
    "abc = pd.read_csv(\"abcdaire.csv\")\n",
    "abc"
   ]
  },
  {
   "cell_type": "markdown",
   "id": "8040a87f-f26c-4d8a-830d-e91e4ddfe16b",
   "metadata": {},
   "source": [
    "Les colones sont acessibles via leur nom"
   ]
  },
  {
   "cell_type": "code",
   "execution_count": null,
   "id": "6dc56ae2-b814-4e9b-8cb5-6d45a194b11f",
   "metadata": {},
   "outputs": [],
   "source": [
    "abc['MSI']"
   ]
  },
  {
   "cell_type": "markdown",
   "id": "a3798aae-35fd-47fe-84a2-c5835e6a4ceb",
   "metadata": {},
   "source": [
    "<h4><b>La saisie de paramètres</b></h4>\n",
    "\n",
    "La méthode la plus simple pour passer des paramètres à un code est de demander à l'utilisateur de les entrer manuellement.</br>\n",
    "Ceci est accompli en Python avec la fonction <code>input</code>."
   ]
  },
  {
   "cell_type": "code",
   "execution_count": null,
   "id": "d0fc1109-65c0-4e3d-a279-3fb0c93e582c",
   "metadata": {},
   "outputs": [],
   "source": [
    "input()"
   ]
  },
  {
   "cell_type": "markdown",
   "id": "0a225ebd-50b0-4598-ae02-4f37d1508066",
   "metadata": {},
   "source": [
    "Notez que si vous entrez un nombre, celui-ci apparait entouré de guillemets ('). Ceci indique que la valeur est stoquée comme du texte et non un nombre.\n",
    "\n",
    "Cette fonction peut également recevoir un argument pour indiquer ce qui est demandé comme information."
   ]
  },
  {
   "cell_type": "code",
   "execution_count": null,
   "id": "9a3bd22a-855c-4c46-92c6-39a5a555327b",
   "metadata": {},
   "outputs": [],
   "source": [
    "nom = input(\"Quel est ton nom?\")\n",
    "print(f\"Bonjour {nom}!\")"
   ]
  },
  {
   "cell_type": "markdown",
   "id": "a268f7ca-4bff-41e9-a1a4-0456b0aeebf8",
   "metadata": {},
   "source": [
    "Cette méthode est simple mais nécéssite l'interaction de l'utilisateur à chaque fois que le programme est exécuté, ce qui n'est pas toujours souhaitable."
   ]
  },
  {
   "cell_type": "markdown",
   "id": "6f671af3-d5ce-4caa-9eda-1e3d73d647bd",
   "metadata": {},
   "source": [
    "<h4><b>Lecture de fichiers de paramètres</b></h4>\n",
    "\n",
    "Pour automatiser le passage de paramètres à un code, il est possible de créer un fichier qui contient les paramètres que l'on souhaire utiliser. Le code lit ce fichier et ainsi ne requiert pas l'intervention de l'utilisateur.\n",
    "\n",
    "Le format de donnée que je recommande est le format YAML puisqu'il est aisément lu et écrit par des humains.\n",
    "\n",
    "Regardons le contenu du fichier <code>params</code>:"
   ]
  },
  {
   "cell_type": "code",
   "execution_count": null,
   "id": "24cee178-7df7-42c7-aa01-1f92285e6182",
   "metadata": {},
   "outputs": [],
   "source": [
    "print(\"-\"*28)\n",
    "with open(\"params\") as f:\n",
    "    print(f.read())\n",
    "print(\"-\"*28)"
   ]
  },
  {
   "cell_type": "markdown",
   "id": "86fd7b66-9906-40ed-9801-b9a019574b24",
   "metadata": {},
   "source": [
    "Le format YAML contient des valeurs associées à un mot clé séparés par un deux-points (:).\n",
    "\n",
    "Pour lire ce type de fichier la librairie <code>PyYAML</code> est utilisée. Elle est installée via le Terminal avec la commande <code>pip install pyyaml</code>."
   ]
  },
  {
   "cell_type": "code",
   "execution_count": null,
   "id": "9c31bf76-6733-4c5a-ae60-fb84d2b9c111",
   "metadata": {},
   "outputs": [],
   "source": [
    "import yaml\n",
    "with open(\"params\") as f:\n",
    "    p = yaml.safe_load(f)\n",
    "print(p)"
   ]
  },
  {
   "cell_type": "markdown",
   "id": "ff6be910-ff73-46f0-af0b-ea3e022415ea",
   "metadata": {},
   "source": [
    "L'object qui est retourné est un <i>dictionnaire</i>. Les values sont obtenus avec la clé."
   ]
  },
  {
   "cell_type": "code",
   "execution_count": null,
   "id": "ba2cdbdc-6798-4a9f-85e9-db92c7682c1d",
   "metadata": {},
   "outputs": [],
   "source": [
    "p['filename']"
   ]
  },
  {
   "cell_type": "markdown",
   "id": "99529e0c-9af6-4a4e-97d4-57acd61e20f3",
   "metadata": {},
   "source": [
    "De cette manière il suffit de changer le fichier de paramètres pour modifier le comportement du code."
   ]
  },
  {
   "cell_type": "markdown",
   "id": "08ea0e83-6bc3-47c6-90d9-4616bbaf235b",
   "metadata": {},
   "source": [
    "<h3>À votre tour!</h3>\n",
    "\n",
    "Modifiez le code suivants (et modifiez des fichiers au besoin) pour qu'ils s'exécutent sans les paramètres explicitement définis dans le code."
   ]
  },
  {
   "cell_type": "code",
   "execution_count": null,
   "id": "13d095b9-429e-4e7e-a658-abefe265bbba",
   "metadata": {},
   "outputs": [],
   "source": [
    "age_legal = 18\n",
    "fichier_personnes = \"personnes.csv\"\n",
    "personnes = None # lire le fichier\n",
    "\n",
    "majeur = personnes['age'] >= age_legal\n",
    "print(personnes[majeur])"
   ]
  }
 ],
 "metadata": {
  "kernelspec": {
   "display_name": "Python 3 (ipykernel)",
   "language": "python",
   "name": "python3"
  },
  "language_info": {
   "codemirror_mode": {
    "name": "ipython",
    "version": 3
   },
   "file_extension": ".py",
   "mimetype": "text/x-python",
   "name": "python",
   "nbconvert_exporter": "python",
   "pygments_lexer": "ipython3",
   "version": "3.7.12"
  }
 },
 "nbformat": 4,
 "nbformat_minor": 5
}
